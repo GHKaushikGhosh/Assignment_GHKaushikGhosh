{
 "cells": [
  {
   "cell_type": "code",
   "execution_count": null,
   "id": "c65481c6-ec17-4f84-9907-ac225ea35ec1",
   "metadata": {},
   "outputs": [],
   "source": [
    "a1=2\n",
    "a2=3\n",
    "a1=a1+a2\n",
    "a2=a1-a2\n",
    "a1=a1-a2\n",
    "a1,a2"
   ]
  },
  {
   "cell_type": "code",
   "execution_count": null,
   "id": "6627c661-3dd1-4846-a274-801f72e9c8c7",
   "metadata": {},
   "outputs": [],
   "source": [
    "b1=input()\n",
    "b2=input()\n",
    "ar=int(b1)*int(b2)\n",
    "ar"
   ]
  },
  {
   "cell_type": "code",
   "execution_count": null,
   "id": "02581729-2e36-42b5-ab42-1a62e5759972",
   "metadata": {},
   "outputs": [],
   "source": [
    "c=input()\n",
    "f=int(c)*9/5+32\n",
    "f"
   ]
  },
  {
   "cell_type": "code",
   "execution_count": null,
   "id": "b420db08-077c-47df-b387-72bb7dc47c43",
   "metadata": {},
   "outputs": [],
   "source": [
    "\"\"\"TOPIC: String Based Questions\"\"\"\n",
    "a=input()\n",
    "l=len(a)\n",
    "l"
   ]
  },
  {
   "cell_type": "code",
   "execution_count": null,
   "id": "e78d647e-4bcf-4ede-abbe-88de71c77d58",
   "metadata": {},
   "outputs": [],
   "source": [
    "\"\"\"Create a program that takes a sentence from the user and counts the number\n",
    "of vowels (a, e, i, o, u) in the string. Unable Now\"\"\""
   ]
  },
  {
   "cell_type": "code",
   "execution_count": 20,
   "id": "64b3f1b3-415c-40ec-ab0b-47b949596835",
   "metadata": {},
   "outputs": [
    {
     "data": {
      "text/plain": [
       "'kihsuaK'"
      ]
     },
     "execution_count": 20,
     "metadata": {},
     "output_type": "execute_result"
    }
   ],
   "source": [
    "a='Kaushik'\n",
    "b=a[-1:-89:-1]\n",
    "b"
   ]
  },
  {
   "cell_type": "code",
   "execution_count": 30,
   "id": "ffa9f3b0-e640-4498-a2b1-f299193897e8",
   "metadata": {},
   "outputs": [
    {
     "name": "stdout",
     "output_type": "stream",
     "text": [
      "Palindrom\n"
     ]
    }
   ],
   "source": [
    "a='MADAM'\n",
    "b=a[-1:-89:-1]\n",
    "if a==b:\n",
    " print(\"Palindrom\")\n",
    "else:\n",
    " print(\"No-Palindrom\")"
   ]
  },
  {
   "cell_type": "code",
   "execution_count": 34,
   "id": "40482cbf-eb7d-49ee-af11-decc5a1d5e52",
   "metadata": {},
   "outputs": [
    {
     "data": {
      "text/plain": [
       "'SpaceRemove'"
      ]
     },
     "execution_count": 34,
     "metadata": {},
     "output_type": "execute_result"
    }
   ],
   "source": [
    "a=' Space Remove '\n",
    "b= a.replace(\" \",\"\")\n",
    "b"
   ]
  },
  {
   "cell_type": "code",
   "execution_count": null,
   "id": "370c4714-0a93-4fc3-b565-797166bba9e1",
   "metadata": {},
   "outputs": [],
   "source": [
    "a"
   ]
  }
 ],
 "metadata": {
  "kernelspec": {
   "display_name": "Python 3 (ipykernel)",
   "language": "python",
   "name": "python3"
  },
  "language_info": {
   "codemirror_mode": {
    "name": "ipython",
    "version": 3
   },
   "file_extension": ".py",
   "mimetype": "text/x-python",
   "name": "python",
   "nbconvert_exporter": "python",
   "pygments_lexer": "ipython3",
   "version": "3.10.8"
  }
 },
 "nbformat": 4,
 "nbformat_minor": 5
}
